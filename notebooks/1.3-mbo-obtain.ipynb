{
 "cells": [
  {
   "cell_type": "code",
   "execution_count": 1,
   "id": "f692e472",
   "metadata": {},
   "outputs": [],
   "source": [
    "import requests\n",
    "import json\n",
    "import pandas as pd\n",
    "\n",
    "import time\n",
    "\n",
    "from bs4 import BeautifulSoup"
   ]
  },
  {
   "cell_type": "code",
   "execution_count": 2,
   "id": "443d3304",
   "metadata": {},
   "outputs": [],
   "source": [
    "key = \"17755C868F1D9D9D8BD453A0C8D7CB03\"\n",
    "steam_id = \"76561198123999673\""
   ]
  },
  {
   "cell_type": "markdown",
   "id": "7fc1583d",
   "metadata": {},
   "source": [
    "### Get Friend List"
   ]
  },
  {
   "cell_type": "code",
   "execution_count": 3,
   "id": "0035dd60",
   "metadata": {},
   "outputs": [],
   "source": [
    "def get_friend_list(steam_id):\n",
    "    page_friends = f\"https://api.steampowered.com/ISteamUser\\\n",
    "    /GetFriendList/v0001/?key={key}&steamid={steam_id}&relationship=friend\"\n",
    "    response_friends = requests.get(page_friends)\n",
    "    if len(json.loads(response_friends.text)) == 0:\n",
    "        print('No response!')\n",
    "        return None\n",
    "    data_friends = json.loads(response_friends.text)['friendslist']['friends']\n",
    "    df_friends = pd.json_normalize(data_friends).steamid\n",
    "    return df_friends\n",
    "\n",
    "def concat_friend_lists(df1, df2):\n",
    "    df_friends = pd.concat([df1, df2], ignore_index=True)\n",
    "    df_friends.drop_duplicates(inplace=True)\n",
    "    return df_friends"
   ]
  },
  {
   "cell_type": "code",
   "execution_count": 4,
   "id": "94339b38",
   "metadata": {},
   "outputs": [],
   "source": [
    "df_friends = get_friend_list(steam_id)"
   ]
  },
  {
   "cell_type": "code",
   "execution_count": 5,
   "id": "31df4f75",
   "metadata": {
    "scrolled": true
   },
   "outputs": [],
   "source": [
    "download = False\n",
    "if download:\n",
    "    for i, item in df_friends[:5].iteritems():\n",
    "        df_friends = concat_friend_lists(df_friends, get_friend_list(item))\n",
    "        time.sleep(.5)\n",
    "        print(f'{i, item} Done...')\n",
    "    \n",
    "    df_friends.to_csv('../data/raw/steamAPI_friendsList.csv')\n",
    "else:\n",
    "    df_friends = pd.read_csv('../data/raw/steamAPI_friendsList.csv'\n",
    "                             , index_col=False).loc[:, '0']"
   ]
  },
  {
   "cell_type": "code",
   "execution_count": 6,
   "id": "8cde6516",
   "metadata": {
    "scrolled": true
   },
   "outputs": [
    {
     "name": "stdout",
     "output_type": "stream",
     "text": [
      "<class 'pandas.core.series.Series'>\n",
      "RangeIndex: 346158 entries, 0 to 346157\n",
      "Series name: 0\n",
      "Non-Null Count   Dtype\n",
      "--------------   -----\n",
      "346158 non-null  int64\n",
      "dtypes: int64(1)\n",
      "memory usage: 2.6 MB\n"
     ]
    }
   ],
   "source": [
    "df_friends.info()"
   ]
  },
  {
   "cell_type": "code",
   "execution_count": 7,
   "id": "9e0dba53",
   "metadata": {},
   "outputs": [
    {
     "data": {
      "text/plain": [
       "0         76561197966638457\n",
       "1         76561198034918747\n",
       "2         76561198067832559\n",
       "3         76561198074247705\n",
       "4         76561198077671905\n",
       "                ...        \n",
       "346153    76561198818184609\n",
       "346154    76561198855934566\n",
       "346155    76561198967413465\n",
       "346156    76561199038016644\n",
       "346157    76561199227050728\n",
       "Name: 0, Length: 346158, dtype: int64"
      ]
     },
     "execution_count": 7,
     "metadata": {},
     "output_type": "execute_result"
    }
   ],
   "source": [
    "df_friends"
   ]
  },
  {
   "cell_type": "markdown",
   "id": "cd8fe730",
   "metadata": {},
   "source": [
    "### Get Owned Games"
   ]
  },
  {
   "cell_type": "code",
   "execution_count": 8,
   "id": "aa27a648",
   "metadata": {},
   "outputs": [],
   "source": [
    "def get_owned_games(steam_id):\n",
    "    page_games = f\"http://api.steampowered.com/IPlayerService/GetOwnedGames/v0001/?key={key}&steamid={steam_id}&format=json\"\n",
    "    response_games = requests.get(page_games)\n",
    "    if ((len(json.loads(response_games.text)) == 0) | (len(json.loads(response_games.text)['response']) == 0)):\n",
    "        print('No response!')\n",
    "        return None\n",
    "    data_games = json.loads(response_games.text)['response']['games']\n",
    "    df_games = pd.json_normalize(data_games).assign(steamid=steam_id).loc[:, ['steamid', 'appid', 'playtime_forever']]\n",
    "    return df_games\n",
    "\n",
    "def concat_owned_games(df1, df2):\n",
    "    df_games = pd.concat([df1, df2], ignore_index=True)\n",
    "    return df_games"
   ]
  },
  {
   "cell_type": "code",
   "execution_count": 9,
   "id": "9c0ff7a5",
   "metadata": {},
   "outputs": [],
   "source": [
    "df_games = get_owned_games(steam_id)"
   ]
  },
  {
   "cell_type": "code",
   "execution_count": 11,
   "id": "74b12bbb",
   "metadata": {
    "scrolled": true
   },
   "outputs": [],
   "source": [
    "download = False\n",
    "if download:\n",
    "    for i, item in df_friends.iloc[2000:3000].iteritems():\n",
    "        df_games = concat_owned_games(df_games, get_owned_games(item))\n",
    "        time.sleep(1)\n",
    "        print(f'{i, item} Done...')\n",
    "    \n",
    "    df_games.to_csv('../data/raw/steamAPI_ownedGames.csv')\n",
    "else:\n",
    "    df_games = pd.read_csv('../data/raw/steamAPI_ownedGames.csv', index_col=0)"
   ]
  },
  {
   "cell_type": "code",
   "execution_count": 12,
   "id": "348be678",
   "metadata": {},
   "outputs": [
    {
     "data": {
      "text/html": [
       "<div>\n",
       "<style scoped>\n",
       "    .dataframe tbody tr th:only-of-type {\n",
       "        vertical-align: middle;\n",
       "    }\n",
       "\n",
       "    .dataframe tbody tr th {\n",
       "        vertical-align: top;\n",
       "    }\n",
       "\n",
       "    .dataframe thead th {\n",
       "        text-align: right;\n",
       "    }\n",
       "</style>\n",
       "<table border=\"1\" class=\"dataframe\">\n",
       "  <thead>\n",
       "    <tr style=\"text-align: right;\">\n",
       "      <th></th>\n",
       "      <th>steamid</th>\n",
       "      <th>appid</th>\n",
       "      <th>playtime_forever</th>\n",
       "    </tr>\n",
       "  </thead>\n",
       "  <tbody>\n",
       "    <tr>\n",
       "      <th>0</th>\n",
       "      <td>76561198123999673</td>\n",
       "      <td>50</td>\n",
       "      <td>2</td>\n",
       "    </tr>\n",
       "    <tr>\n",
       "      <th>1</th>\n",
       "      <td>76561198123999673</td>\n",
       "      <td>60</td>\n",
       "      <td>83</td>\n",
       "    </tr>\n",
       "    <tr>\n",
       "      <th>2</th>\n",
       "      <td>76561198123999673</td>\n",
       "      <td>70</td>\n",
       "      <td>1691</td>\n",
       "    </tr>\n",
       "    <tr>\n",
       "      <th>3</th>\n",
       "      <td>76561198123999673</td>\n",
       "      <td>130</td>\n",
       "      <td>408</td>\n",
       "    </tr>\n",
       "    <tr>\n",
       "      <th>4</th>\n",
       "      <td>76561198123999673</td>\n",
       "      <td>220</td>\n",
       "      <td>4357</td>\n",
       "    </tr>\n",
       "  </tbody>\n",
       "</table>\n",
       "</div>"
      ],
      "text/plain": [
       "             steamid  appid  playtime_forever\n",
       "0  76561198123999673     50                 2\n",
       "1  76561198123999673     60                83\n",
       "2  76561198123999673     70              1691\n",
       "3  76561198123999673    130               408\n",
       "4  76561198123999673    220              4357"
      ]
     },
     "execution_count": 12,
     "metadata": {},
     "output_type": "execute_result"
    }
   ],
   "source": [
    "df_games.head()"
   ]
  },
  {
   "cell_type": "code",
   "execution_count": 13,
   "id": "343c36df",
   "metadata": {
    "scrolled": true
   },
   "outputs": [
    {
     "name": "stdout",
     "output_type": "stream",
     "text": [
      "<class 'pandas.core.frame.DataFrame'>\n",
      "Int64Index: 99349 entries, 0 to 99348\n",
      "Data columns (total 3 columns):\n",
      " #   Column            Non-Null Count  Dtype\n",
      "---  ------            --------------  -----\n",
      " 0   steamid           99349 non-null  int64\n",
      " 1   appid             99349 non-null  int64\n",
      " 2   playtime_forever  99349 non-null  int64\n",
      "dtypes: int64(3)\n",
      "memory usage: 3.0 MB\n"
     ]
    }
   ],
   "source": [
    "df_games.info()"
   ]
  },
  {
   "cell_type": "markdown",
   "id": "6dac4f64",
   "metadata": {},
   "source": [
    "### Get Game Tags"
   ]
  },
  {
   "cell_type": "code",
   "execution_count": 14,
   "id": "00cb6950",
   "metadata": {},
   "outputs": [],
   "source": [
    "def get_game_tags(appid):\n",
    "    page = f\"https://store.steampowered.com/app/{appid}\"\n",
    "    response = requests.get(page)\n",
    "    tags=[]\n",
    "    if response.status_code == 200:\n",
    "        soup = BeautifulSoup(response.text, 'html.parser')\n",
    "        title = soup.find('div', {'id': 'appHubAppName'})\n",
    "        app_tag = soup.find_all('a', {'class': 'app_tag'})\n",
    "        for tag in app_tag:\n",
    "            tags.append(tag.text.strip())\n",
    "\n",
    "        return pd.DataFrame({'appid': appid, 'title': title, 'tags': [tags]})\n",
    "    else:\n",
    "        print('Game page not found!')\n",
    "        return None\n",
    "\n",
    "def concat_game_tags(df1, df2):\n",
    "    df_tags = pd.concat([df1, df2], ignore_index=True)\n",
    "    return df_tags"
   ]
  },
  {
   "cell_type": "code",
   "execution_count": 17,
   "id": "230fa8cf",
   "metadata": {},
   "outputs": [],
   "source": [
    "# df_tags = get_game_tags(730)"
   ]
  },
  {
   "cell_type": "code",
   "execution_count": 109,
   "id": "07af7e58",
   "metadata": {
    "scrolled": true
   },
   "outputs": [
    {
     "data": {
      "text/plain": [
       "730        855\n",
       "218620     541\n",
       "578080     521\n",
       "304930     423\n",
       "550        418\n",
       "          ... \n",
       "468080       1\n",
       "468050       1\n",
       "467890       1\n",
       "1784780      1\n",
       "748300       1\n",
       "Name: appid, Length: 14749, dtype: int64"
      ]
     },
     "execution_count": 109,
     "metadata": {},
     "output_type": "execute_result"
    }
   ],
   "source": [
    "df_games.appid.value_counts()"
   ]
  },
  {
   "cell_type": "code",
   "execution_count": 106,
   "id": "6bf4486d",
   "metadata": {
    "scrolled": true
   },
   "outputs": [],
   "source": [
    "download = False\n",
    "if download:\n",
    "    for i, (appid, count) in enumerate(df_games.appid.value_counts()[5000:6000].iteritems()):\n",
    "        df_tags = concat_game_tags(df_tags, get_game_tags(appid))\n",
    "        time.sleep(1)\n",
    "        print(f'{i, appid} Done...')\n",
    "    \n",
    "    df_tags.drop_duplicates('appid', inplace=True)\n",
    "    df_tags.to_csv('../data/raw/steamAPI_gameTags.csv')\n",
    "else:\n",
    "    df_tags = pd.read_csv('../data/raw/steamAPI_gameTags.csv', index_col=0).rename(columns={'0': 'appid'})"
   ]
  },
  {
   "cell_type": "code",
   "execution_count": 107,
   "id": "ba1da533",
   "metadata": {},
   "outputs": [
    {
     "data": {
      "text/html": [
       "<div>\n",
       "<style scoped>\n",
       "    .dataframe tbody tr th:only-of-type {\n",
       "        vertical-align: middle;\n",
       "    }\n",
       "\n",
       "    .dataframe tbody tr th {\n",
       "        vertical-align: top;\n",
       "    }\n",
       "\n",
       "    .dataframe thead th {\n",
       "        text-align: right;\n",
       "    }\n",
       "</style>\n",
       "<table border=\"1\" class=\"dataframe\">\n",
       "  <thead>\n",
       "    <tr style=\"text-align: right;\">\n",
       "      <th></th>\n",
       "      <th>appid</th>\n",
       "      <th>title</th>\n",
       "      <th>tags</th>\n",
       "    </tr>\n",
       "  </thead>\n",
       "  <tbody>\n",
       "    <tr>\n",
       "      <th>0</th>\n",
       "      <td>730</td>\n",
       "      <td>Counter-Strike: Global Offensive</td>\n",
       "      <td>['FPS', 'Shooter', 'Multiplayer', 'Competitive...</td>\n",
       "    </tr>\n",
       "    <tr>\n",
       "      <th>1</th>\n",
       "      <td>218620</td>\n",
       "      <td>PAYDAY 2</td>\n",
       "      <td>['Co-op', 'Action', 'FPS', 'Heist', 'Looter Sh...</td>\n",
       "    </tr>\n",
       "    <tr>\n",
       "      <th>2</th>\n",
       "      <td>578080</td>\n",
       "      <td>PUBG: BATTLEGROUNDS</td>\n",
       "      <td>['Survival', 'Shooter', 'Multiplayer', 'Battle...</td>\n",
       "    </tr>\n",
       "    <tr>\n",
       "      <th>3</th>\n",
       "      <td>304930</td>\n",
       "      <td>Unturned</td>\n",
       "      <td>['Free to Play', 'Survival', 'Zombies', 'Open ...</td>\n",
       "    </tr>\n",
       "    <tr>\n",
       "      <th>4</th>\n",
       "      <td>550</td>\n",
       "      <td>Left 4 Dead 2</td>\n",
       "      <td>['Zombies', 'Co-op', 'FPS', 'Multiplayer', 'Sh...</td>\n",
       "    </tr>\n",
       "  </tbody>\n",
       "</table>\n",
       "</div>"
      ],
      "text/plain": [
       "    appid                             title  \\\n",
       "0     730  Counter-Strike: Global Offensive   \n",
       "1  218620                          PAYDAY 2   \n",
       "2  578080               PUBG: BATTLEGROUNDS   \n",
       "3  304930                          Unturned   \n",
       "4     550                     Left 4 Dead 2   \n",
       "\n",
       "                                                tags  \n",
       "0  ['FPS', 'Shooter', 'Multiplayer', 'Competitive...  \n",
       "1  ['Co-op', 'Action', 'FPS', 'Heist', 'Looter Sh...  \n",
       "2  ['Survival', 'Shooter', 'Multiplayer', 'Battle...  \n",
       "3  ['Free to Play', 'Survival', 'Zombies', 'Open ...  \n",
       "4  ['Zombies', 'Co-op', 'FPS', 'Multiplayer', 'Sh...  "
      ]
     },
     "execution_count": 107,
     "metadata": {},
     "output_type": "execute_result"
    }
   ],
   "source": [
    "df_tags.head()"
   ]
  },
  {
   "cell_type": "code",
   "execution_count": 112,
   "id": "9a51b486",
   "metadata": {},
   "outputs": [
    {
     "name": "stdout",
     "output_type": "stream",
     "text": [
      "<class 'pandas.core.frame.DataFrame'>\n",
      "Int64Index: 5003 entries, 0 to 5002\n",
      "Data columns (total 3 columns):\n",
      " #   Column  Non-Null Count  Dtype \n",
      "---  ------  --------------  ----- \n",
      " 0   appid   5003 non-null   int64 \n",
      " 1   title   4715 non-null   object\n",
      " 2   tags    5003 non-null   object\n",
      "dtypes: int64(1), object(2)\n",
      "memory usage: 156.3+ KB\n"
     ]
    }
   ],
   "source": [
    "df_tags.info()"
   ]
  },
  {
   "cell_type": "code",
   "execution_count": null,
   "id": "971a3b91",
   "metadata": {},
   "outputs": [],
   "source": []
  }
 ],
 "metadata": {
  "kernelspec": {
   "display_name": "Python 3 (ipykernel)",
   "language": "python",
   "name": "python3"
  },
  "language_info": {
   "codemirror_mode": {
    "name": "ipython",
    "version": 3
   },
   "file_extension": ".py",
   "mimetype": "text/x-python",
   "name": "python",
   "nbconvert_exporter": "python",
   "pygments_lexer": "ipython3",
   "version": "3.10.4"
  }
 },
 "nbformat": 4,
 "nbformat_minor": 5
}
